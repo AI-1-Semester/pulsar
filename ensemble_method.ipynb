{
 "cells": [
  {
   "cell_type": "code",
   "execution_count": 18,
   "metadata": {},
   "outputs": [],
   "source": [
    "import pandas as pd\n",
    "\n",
    "# Import accuracy_score from sklearn\n",
    "from sklearn.metrics import accuracy_score\n",
    "\n",
    "# Load the data\n",
    "data = pd.read_csv('pulsar_stars.csv')\n",
    "\n",
    "# remove column white space\n",
    "data.columns = data.columns.str.strip()\n",
    "\n",
    "# create a dataframe\n",
    "df = pd.DataFrame(data)\n",
    "\n",
    "x = df.drop('target_class', axis=1)\n",
    "y = df['target_class']\n",
    "\n",
    "# Split the data into a training and a test set\n",
    "from sklearn.model_selection import train_test_split\n",
    "x_train, x_test, y_train, y_test = train_test_split(x, y, test_size=0.2, random_state=1)\n",
    "\n",
    "# Import the StandardScaler\n",
    "from sklearn.preprocessing import StandardScaler\n",
    "\n",
    "# Create the scaler\n",
    "scaler = StandardScaler()\n",
    "\n",
    "# Fit the scaler to the training data and transform the training data\n",
    "x_train = scaler.fit_transform(x_train)\n",
    "\n",
    "# Transform the test data\n",
    "x_test = scaler.transform(x_test)\n",
    "\n",
    "x_train = pd.DataFrame(x_train, columns=x.columns)\n",
    "x_test = pd.DataFrame(x_test, columns=x.columns)\n"
   ]
  },
  {
   "cell_type": "code",
   "execution_count": 19,
   "metadata": {},
   "outputs": [
    {
     "name": "stderr",
     "output_type": "stream",
     "text": [
      "/Users/pentiam1pro/projects/UCL/Machine_learning/pulsar/env/lib/python3.12/site-packages/sklearn/ensemble/_weight_boosting.py:519: FutureWarning: The SAMME.R algorithm (the default) is deprecated and will be removed in 1.6. Use the SAMME algorithm to circumvent this warning.\n",
      "  warnings.warn(\n"
     ]
    },
    {
     "name": "stdout",
     "output_type": "stream",
     "text": [
      "0.9801675977653631\n"
     ]
    }
   ],
   "source": [
    "\n",
    "# Import the necessary modules and variables\n",
    "from sklearn.ensemble import AdaBoostClassifier\n",
    "from sklearn.tree import DecisionTreeClassifier\n",
    "\n",
    "# Create a decision tree classifier\n",
    "dt = DecisionTreeClassifier( criterion='gini' ,max_depth=1)\n",
    "\n",
    "# Create an AdaBoost classifier\n",
    "model = AdaBoostClassifier(dt ,n_estimators=100)\n",
    "\n",
    "# Fit the AdaBoost classifier to the training data\n",
    "model.fit(x_train, y_train)\n",
    "\n",
    "# Predict the test data\n",
    "y_pred = model.predict_proba(x_test)\n",
    "\n",
    "# Calculate the accuracy\n",
    "accuracy = model.score(x_test, y_test)\n",
    "\n",
    "# Print the accuracy\n",
    "print(accuracy)\n",
    "\n"
   ]
  }
 ],
 "metadata": {
  "kernelspec": {
   "display_name": "env",
   "language": "python",
   "name": "python3"
  },
  "language_info": {
   "codemirror_mode": {
    "name": "ipython",
    "version": 3
   },
   "file_extension": ".py",
   "mimetype": "text/x-python",
   "name": "python",
   "nbconvert_exporter": "python",
   "pygments_lexer": "ipython3",
   "version": "3.12.1"
  }
 },
 "nbformat": 4,
 "nbformat_minor": 2
}
