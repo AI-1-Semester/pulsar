{
 "cells": [
  {
   "cell_type": "code",
   "execution_count": 35,
   "metadata": {},
   "outputs": [
    {
     "name": "stdout",
     "output_type": "stream",
     "text": [
      "IP_Mean            0\n",
      "IP_Sd              0\n",
      "IP_Kurtosis        0\n",
      "IP_Skewness        0\n",
      "DM-SNR_Mean        0\n",
      "DM-SNR_Sd          0\n",
      "DM-SNR_Kurtosis    0\n",
      "DM-SNR_Skewness    0\n",
      "target_class       0\n",
      "dtype: int64\n"
     ]
    },
    {
     "data": {
      "text/plain": [
       "Text(0, 0.5, 'DM-SNR_Skewness')"
      ]
     },
     "execution_count": 35,
     "metadata": {},
     "output_type": "execute_result"
    },
    {
     "data": {
      "image/png": "[encoded data removed]",
      "text/plain": [
       "<Figure size 2400x2000 with 1 Axes>"
      ]
     },
     "metadata": {},
     "output_type": "display_data"
    }
   ],
   "source": [
    "import numpy as np\n",
    "import matplotlib.pyplot as plt\n",
    "import pandas as pd\n",
    "import seaborn as sns\n",
    "\n",
    "# Load the data\n",
    "data = pd.read_csv('pulsar_stars.csv')\n",
    "\n",
    "# remove column white space\n",
    "data.columns = data.columns.str.strip()\n",
    "\n",
    "# create a dataframe\n",
    "df = pd.DataFrame(data)\n",
    "\n",
    "# Print the first 5 rows of the dataframe\n",
    "#print(df.head())\n",
    "\n",
    "# Check for null values\n",
    "print(df.isnull().sum())\n",
    "\n",
    "# Print the distribution of the target class (RFI noice vs. Pulsar examples)\n",
    "distribution = df['target_class'].value_counts()\n",
    "\n",
    "# Calculate the percentage of each class\n",
    "def distribution_percentage(distribution):\n",
    "  percentage_rfi = distribution[0] / distribution.sum() * 100\n",
    "  percentage_example = distribution[1] / distribution.sum() * 100\n",
    "  return [percentage_rfi, percentage_example]\n",
    "\n",
    "percentage = distribution_percentage(distribution)\n",
    "#print(\"RFI:\", percentage[0], \"Example:\", percentage[1])\n",
    "\n",
    "plt.figure(figsize=(24, 20))\n",
    "\n",
    "plt.subplot(4, 2, 1)\n",
    "fig = df.boxplot(column='IP_Mean')\n",
    "fig.set_title('')\n",
    "fig.set_ylabel('IP_Mean') \n",
    "\n",
    "plt.subplot(4, 2, 1)\n",
    "fig = df.boxplot(column='IP_Sd')\n",
    "fig.set_title('')\n",
    "fig.set_ylabel('IP_Sd') \n",
    "\n",
    "plt.subplot(4, 2, 1)\n",
    "fig = df.boxplot(column='IP_Kurtosis')\n",
    "fig.set_title('')\n",
    "fig.set_ylabel('IP_Kurtosis') \n",
    "\n",
    "plt.subplot(4, 2, 1)\n",
    "fig = df.boxplot(column='IP_Skewness')\n",
    "fig.set_title('')\n",
    "fig.set_ylabel('IP_Skewness') \n",
    "\n",
    "plt.subplot(4, 2, 1)\n",
    "fig = df.boxplot(column='DM-SNR_Mean')\n",
    "fig.set_title('')\n",
    "fig.set_ylabel('DM-SNR_Mean') \n",
    "\n",
    "plt.subplot(4, 2, 1)\n",
    "fig = df.boxplot(column='DM-SNR_Sd')\n",
    "fig.set_title('')\n",
    "fig.set_ylabel('DM-SNR_Sd') \n",
    "\n",
    "plt.subplot(4, 2, 1)\n",
    "fig = df.boxplot(column='DM-SNR_Kurtosis')\n",
    "fig.set_title('')\n",
    "fig.set_ylabel('DM-SNR_Kurtosis') \n",
    "\n",
    "plt.subplot(4, 2, 1)\n",
    "fig = df.boxplot(column='DM-SNR_Skewness')\n",
    "fig.set_title('')\n",
    "fig.set_ylabel('DM-SNR_Skewness') \n"
   ]
  },
  {
   "cell_type": "code",
   "execution_count": 39,
   "metadata": {},
   "outputs": [
    {
     "name": "stdout",
     "output_type": "stream",
     "text": [
      "          0         1         2         3         4         5         6  \\\n",
      "0  0.107361  0.109085 -0.445870 -0.220707 -0.256989 -0.070929 -0.541070   \n",
      "1 -0.090774  0.147385 -0.269544 -0.285263 -0.328577 -0.429661  0.040586   \n",
      "2 -0.226630 -0.266272 -0.296572 -0.209545 -0.340299 -0.453140 -0.021067   \n",
      "3  0.104308 -0.214371 -0.162544 -0.243378 -0.372834 -0.537674  0.751989   \n",
      "4 -0.146643 -0.696426 -0.183377 -0.168156 -0.345617 -0.620645  0.151591   \n",
      "\n",
      "          7  \n",
      "0 -0.627108  \n",
      "1 -0.190112  \n",
      "2 -0.259280  \n",
      "3  0.434867  \n",
      "4  0.041797  \n",
      "          0         1         2         3         4         5         6  \\\n",
      "0 -0.176867 -0.026844 -0.033696 -0.307310  2.751625  3.415691 -1.800194   \n",
      "1 -1.904520 -1.275561  2.392131  1.776573  0.998873  2.271875 -1.468115   \n",
      "2 -0.144811 -0.439903 -0.259998 -0.260455 -0.336268 -0.488963  0.038800   \n",
      "3  0.286568 -1.073187 -0.292939 -0.214051 -0.371805 -0.767203  0.918031   \n",
      "4 -0.749902 -1.748692  0.206115  0.189034 -0.344073 -0.395332  0.174440   \n",
      "\n",
      "          7  \n",
      "0 -0.995608  \n",
      "1 -0.963486  \n",
      "2 -0.179772  \n",
      "3  1.093862  \n",
      "4 -0.130895  \n"
     ]
    }
   ],
   "source": [
    "x = df.drop('target_class', axis=1)\n",
    "y = df['target_class']\n",
    "\n",
    "# Split the data into a training and a test set\n",
    "from sklearn.model_selection import train_test_split\n",
    "x_train, x_test, y_train, y_test = train_test_split(x, y, test_size=0.2, random_state=1)\n",
    "\n",
    "# Import the StandardScaler\n",
    "from sklearn.preprocessing import StandardScaler\n",
    "\n",
    "# Create the scaler\n",
    "scaler = StandardScaler()\n",
    "\n",
    "# Fit the scaler to the training data and transform the training data\n",
    "x_train = scaler.fit_transform(x_train)\n",
    "\n",
    "# Transform the test data\n",
    "x_test = scaler.transform(x_test)\n",
    "\n",
    "df1 = pd.DataFrame(x_train)\n",
    "df2 = pd.DataFrame(x_test)\n",
    "\n",
    "print(df1.head())\n",
    "print(df2.head())\n",
    "\n",
    "\n",
    "### Hvorfor er det nu at vi ønsker at skalere data?\n",
    "# Vi kan opskalere og nedskalere data så det passer til vores træningsmodel, så vi kan få en bedre præcision.\n",
    "# Så eksempelvis nogle kollonner ikke vægter mere end andre.\n",
    "\n",
    "### Hvordan gør vi det?\n",
    "# Vi bruger StandardScaler fra sklearn.preprocessing, som vi først fitter til vores træningsdata og derefter transformerer vores træningsdata.\n",
    "# Vi transformerer også vores testdata, så det passer til vores træningsdata.\n",
    "# Vi kan også bruge MinMaxScaler, som scaler data mellem 0 og 1."
   ]
  },
  {
   "cell_type": "code",
   "execution_count": 40,
   "metadata": {},
   "outputs": [
    {
     "name": "stdout",
     "output_type": "stream",
     "text": [
      "0.9801675977653631\n"
     ]
    }
   ],
   "source": [
    "# Import svc from sklearn\n",
    "from sklearn.svm import SVC\n",
    "\n",
    "# Create a support vector classifier\n",
    "svc = SVC()\n",
    "\n",
    "# Fit the classifier to the training data\n",
    "svc.fit(x_train, y_train)\n",
    "\n",
    "# Import accuracy_score from sklearn\n",
    "from sklearn.metrics import accuracy_score\n",
    "\n",
    "# Predict the labels of the test set\n",
    "y_pred = svc.predict(x_test)\n",
    "\n",
    "# Compute the accuracy of the classifier\n",
    "accuracy = accuracy_score(y_test, y_pred)\n",
    "\n",
    "print(accuracy)"
   ]
  }
 ],
 "metadata": {
  "kernelspec": {
   "display_name": "env",
   "language": "python",
   "name": "python3"
  },
  "language_info": {
   "codemirror_mode": {
    "name": "ipython",
    "version": 3
   },
   "file_extension": ".py",
   "mimetype": "text/x-python",
   "name": "python",
   "nbconvert_exporter": "python",
   "pygments_lexer": "ipython3",
   "version": "3.12.1"
  }
 },
 "nbformat": 4,
 "nbformat_minor": 2
}
